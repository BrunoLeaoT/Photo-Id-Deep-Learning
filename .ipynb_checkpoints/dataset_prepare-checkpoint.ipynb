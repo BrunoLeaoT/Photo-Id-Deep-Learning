{
 "cells": [
  {
   "cell_type": "code",
   "execution_count": 291,
   "metadata": {},
   "outputs": [],
   "source": [
    "import pandas as pd\n",
    "import numpy as np\n",
    "import os\n",
    "import glob\n",
    "import numpy.random as rng\n",
    "from keras.preprocessing.image import ImageDataGenerator, load_img, img_to_array, array_to_img"
   ]
  },
  {
   "cell_type": "code",
   "execution_count": 293,
   "metadata": {},
   "outputs": [],
   "source": [
    "class CreateLabelsTargets:\n",
    "    def __init__(self,path):\n",
    "        self.df = pd.read_csv(path)\n",
    "    def load_csv_and_treat(self):\n",
    "        self.dict_classes = {}\n",
    "        for index, row in self.df.iterrows():\n",
    "            #print(row['Image'], row['Id'])\n",
    "            if(row['whaleID'] == 'new_whale' or row['Image'] == 'new_whale'):\n",
    "                continue\n",
    "            if (not self.dict_classes.get(row[\"whaleID\"])):\n",
    "                self.dict_classes[row[\"whaleID\"]] = []\n",
    "            auxArray = self.dict_classes.get(row[\"whaleID\"])\n",
    "            auxArray.append(row['Image'])\n",
    "            self.dict_classes[row[\"whaleID\"]] = auxArray\n",
    "    def create_labels_and_targets(self):\n",
    "        self.X=[]\n",
    "        self.y=[]\n",
    "        for key, value in self.dict_classes.items():\n",
    "            self.X.append(value)\n",
    "            self.y.append(key)"
   ]
  },
  {
   "cell_type": "code",
   "execution_count": 294,
   "metadata": {},
   "outputs": [],
   "source": [
    "class DataLoader:\n",
    "    \"\"\"For loading batches and testing tasks to a siamese net\"\"\"\n",
    "    def __init__(self, path, X,y):\n",
    "        self.X = X\n",
    "        self.y = y\n",
    "        self.path = path\n",
    "     \n",
    "    def getBatch(self,batch_size):\n",
    "        \"\"\"Create batch of n pairs, half same class, half different class\"\"\"\n",
    "        n_classes = len(self.y)\n",
    "        IMG_DIM = (300,300)\n",
    "        #randomly sample several classes to use in the batch\n",
    "        categories = rng.choice(n_classes,size=(batch_size,),replace=False)\n",
    "        #initialize 2 empty arrays for the input image batch\n",
    "        pairs=[np.zeros((batch_size, 300, 300,1)) for i in range(2)]\n",
    "        #initialize vector for the targets, and make one half of it '1's, so 2nd half of batch has same class\n",
    "        targets=np.zeros((batch_size,))\n",
    "        targets[batch_size//2:] = 1\n",
    "        for i in range(batch_size):\n",
    "            category = categories[i]\n",
    "            #If category doesnt have two examples, it wont be good to equal test\n",
    "            if (i >= batch_size // 2) and (len(self.X[category]) == 1):  \n",
    "                while(len(self.X[category]) == 1):\n",
    "                    categories = rng.choice(n_classes,size=(batch_size,),replace=False)\n",
    "                    category = categories[i]\n",
    "            #Select first image\n",
    "            n_examples = len(self.X[category])\n",
    "            idx_1 = rng.randint(0, n_examples)\n",
    "            fullPath = self.path + self.X[category][idx_1]\n",
    "            img = load_img(fullPath, color_mode = \"grayscale\",target_size=IMG_DIM)\n",
    "            pairs[0][i,:,:,:] = img_to_array(img)\n",
    "    \n",
    "            #pick category and index of same class for 1st half, different for 2nd\n",
    "            if i >= batch_size // 2:\n",
    "                category_2 = category\n",
    "                idx_2 = (idx_1 + rng.randint(1,n_examples)) % n_examples\n",
    "            else: \n",
    "                #add old category number to the category modulo n classes to ensure 2nd image has different category\n",
    "                category_2 = (category + rng.randint(1,n_classes)) % n_classes\n",
    "                n_examples = len(self.X[category_2])\n",
    "                idx_2 = rng.randint(0, n_examples)\n",
    "            \n",
    "            fullPath = self.path + self.X[category_2][idx_2]\n",
    "            img = load_img(fullPath, color_mode = \"grayscale\",target_size=IMG_DIM)\n",
    "            pairs[1][i,:,:,:] = img_to_array(img)\n",
    "        return pairs, targets\n",
    "\n",
    "    def generate(self, batch_size):\n",
    "        \"\"\"a generator for batches, so model.fit_generator can be used. \"\"\"\n",
    "        while True:\n",
    "            pairs, targets = self.getBatch(batch_size)\n",
    "            yield (pairs, targets)    "
   ]
  },
  {
   "cell_type": "markdown",
   "metadata": {},
   "source": [
    "createLabelsTargets = CreateLabelsTargets()\n",
    "createLabelsTargets.load_csv_and_treat()\n",
    "createLabelsTargets.create_labels_and_targets()"
   ]
  },
  {
   "cell_type": "markdown",
   "metadata": {},
   "source": [
    "dataLoad = DataLoader(os.getcwd()+'\\\\PF_Data\\\\Train\\\\Right\\\\',createLabelsTargets.X, createLabelsTargets.y)"
   ]
  },
  {
   "cell_type": "markdown",
   "metadata": {},
   "source": [
    "for i in range(2000):\n",
    "    try:\n",
    "        (pairs,targets) = dataLoad.getBatch(8)\n",
    "    except Exception as e:\n",
    "        print(e)"
   ]
  },
  {
   "cell_type": "markdown",
   "metadata": {},
   "source": [
    "Imagens não encontradas: w_7489.jpg"
   ]
  }
 ],
 "metadata": {
  "kernelspec": {
   "display_name": "Python 3",
   "language": "python",
   "name": "python3"
  },
  "language_info": {
   "codemirror_mode": {
    "name": "ipython",
    "version": 3
   },
   "file_extension": ".py",
   "mimetype": "text/x-python",
   "name": "python",
   "nbconvert_exporter": "python",
   "pygments_lexer": "ipython3",
   "version": "3.7.6"
  }
 },
 "nbformat": 4,
 "nbformat_minor": 4
}
