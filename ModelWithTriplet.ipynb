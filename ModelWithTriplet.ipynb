{
 "cells": [
  {
   "cell_type": "code",
   "execution_count": 1,
   "metadata": {},
   "outputs": [],
   "source": [
    "from keras.layers import Input, Conv2D, Lambda, merge, Dense, Flatten,MaxPooling2D,Dropout,BatchNormalization,Layer,GlobalAveragePooling2D\n",
    "from keras.models import Model, Sequential\n",
    "from keras.regularizers import l2\n",
    "from keras import backend as K\n",
    "from keras.optimizers import SGD,Adam\n",
    "from keras.losses import binary_crossentropy\n",
    "import numpy.random as rng\n",
    "import numpy as np\n",
    "import os\n",
    "import matplotlib.pyplot as plt\n",
    "from sklearn.utils import shuffle\n",
    "%matplotlib inline\n",
    "import time"
   ]
  },
  {
   "cell_type": "code",
   "execution_count": null,
   "metadata": {},
   "outputs": [],
   "source": [
    "#Colocar coisa da microsoft"
   ]
  },
  {
   "cell_type": "code",
   "execution_count": 2,
   "metadata": {},
   "outputs": [],
   "source": [
    "class TripletLossLayer(Layer):\n",
    "    def __init__(self, alpha, **kwargs):\n",
    "        self.alpha = alpha\n",
    "        super(TripletLossLayer, self).__init__(**kwargs)\n",
    "    \n",
    "    def triplet_loss(self, inputs):\n",
    "        anchor, positive, negative = inputs\n",
    "        positiveDist = K.sum(K.square(anchor-positive), axis=-1)\n",
    "        negativeDist = K.sum(K.square(anchor-negative), axis=-1)\n",
    "        return K.sum(K.maximum(positiveDist - negativeDist + self.alpha, 0), axis=0)\n",
    "    \n",
    "    def call(self, inputs):\n",
    "        loss = self.triplet_loss(inputs)\n",
    "        self.add_loss(loss)\n",
    "        return loss"
   ]
  },
  {
   "cell_type": "code",
   "execution_count": 3,
   "metadata": {},
   "outputs": [],
   "source": [
    "def build_network(input_shape, embeddingsize):\n",
    "    '''\n",
    "    Define the neural network to learn image similarity\n",
    "    Input : \n",
    "            input_shape : shape of input images\n",
    "            embeddingsize : vectorsize used to encode our picture   \n",
    "    '''\n",
    "     # Convolutional Neural Network\n",
    "    network = Sequential()\n",
    "    network.add(Conv2D(128, (7,7), activation='relu',input_shape=input_shape,kernel_initializer='he_uniform',kernel_regularizer=l2(2e-4)))\n",
    "    network.add(MaxPooling2D())\n",
    "    network.add(Conv2D(128, (3,3), activation='relu', kernel_initializer='he_uniform',kernel_regularizer=l2(2e-4)))\n",
    "    network.add(MaxPooling2D())\n",
    "    network.add(Conv2D(256, (3,3), activation='relu', kernel_initializer='he_uniform',kernel_regularizer=l2(2e-4)))\n",
    "    network.add(GlobalAveragePooling2D())\n",
    "    network.add(Dense(4096, activation='relu',kernel_regularizer=l2(1e-3),kernel_initializer='he_uniform'))\n",
    "    \n",
    "    \n",
    "    network.add(Dense(embeddingsize, activation=None,kernel_regularizer=l2(1e-3),kernel_initializer='he_uniform'))\n",
    "    \n",
    "    #Force the encoding to live on the d-dimentional hypershpere\n",
    "    network.add(Lambda(lambda x: K.l2_normalize(x,axis=-1)))\n",
    "    \n",
    "    return network"
   ]
  },
  {
   "cell_type": "code",
   "execution_count": 4,
   "metadata": {},
   "outputs": [],
   "source": [
    "def build_model(inputShape, network, margin=0.2):\n",
    "    '''\n",
    "    Define the Keras Model for training \n",
    "        Input : \n",
    "            input_shape : shape of input images\n",
    "            network : Neural network to train outputing embeddings\n",
    "            margin : minimal distance between Anchor-Positive and Anchor-Negative for the lossfunction (alpha)\n",
    "    \n",
    "    '''\n",
    "     # Define the tensors for the three input images\n",
    "    anchorInput = Input(inputShape, name=\"anchorInput\")\n",
    "    positiveInput = Input(inputShape, name=\"positiveInput\")\n",
    "    negativeInput = Input(inputShape, name=\"negativeInput\") \n",
    "    \n",
    "    # Generate the encodings (feature vectors) for the three images\n",
    "    encodedA = network(anchorInput)\n",
    "    encodedP = network(positiveInput)\n",
    "    encodedN = network(negativeInput)\n",
    "    \n",
    "    #TripletLoss Layer\n",
    "    lossLayer = TripletLossLayer(alpha=margin,name='tripletLossLayer')([encodedA,encodedP,encodedN])\n",
    "    \n",
    "    # Connect the inputs with the outputs\n",
    "    model = Model(inputs=[anchorInput,positiveInput,negativeInput],outputs=lossLayer)\n",
    "    optimizer = Adam(lr = 0.0006)\n",
    "    model.compile(loss=None,optimizer=optimizer)\n",
    "    # return the model\n",
    "    return model"
   ]
  },
  {
   "cell_type": "code",
   "execution_count": 82,
   "metadata": {},
   "outputs": [],
   "source": [
    "def compute_dist(a,b):\n",
    "    return np.sum(np.square(a-b))\n",
    "\n",
    "def compute_probs(network,X,Y):\n",
    "    '''\n",
    "    Input\n",
    "        network : current NN to compute embeddings\n",
    "        X : tensor of shape (m,w,h,1) containing pics to evaluate\n",
    "        Y : tensor of shape (m,) containing true class\n",
    "        \n",
    "    Returns\n",
    "        probs : array of shape (m,m) containing distances\n",
    "    \n",
    "    '''\n",
    "    # m number of images in X\n",
    "    m = len(X)\n",
    "    nbevaluation = int(m*(m-1)/2)\n",
    "    probs = np.zeros((nbevaluation))\n",
    "    y = np.zeros((nbevaluation))\n",
    "    \n",
    "    #Compute all embeddings for all pics with current network\n",
    "    embeddings = network.predict(X)\n",
    "    \n",
    "    #For each pics of our dataset\n",
    "    k = 0\n",
    "    for i in range(m):\n",
    "            #Against all other images\n",
    "            for j in range(i+1,m):\n",
    "                #compute the probability of being the right decision : it should be 1 for right class, 0 for all other classes\n",
    "                probs[k] = compute_dist(embeddings[i,:],embeddings[j,:])\n",
    "                if (Y[i]==Y[j]):\n",
    "                    y[k] = 1\n",
    "                else:\n",
    "                    y[k] = 0\n",
    "                k += 1\n",
    "    return probs,y\n",
    "#probs,yprobs = compute_probs(network,x_test_origin[:10,:,:,:],y_test_origin[:10])\n",
    "def computeAccuracy(probs,y):\n",
    "    correctPrediction = 0\n",
    "    totalPredictions = len(probs)\n",
    "    probThreshholded = []\n",
    "    threshhold = 0.5\n",
    "    # Creating vector of predicitions after passing through threshold\n",
    "    for prob in probs:\n",
    "        if(prob > 0.5):\n",
    "            probThreshholded.append(1)\n",
    "        else:\n",
    "            probThreshholded.append(0)\n",
    "            \n",
    "    for index,prob in enumerate(probThreshholded):\n",
    "        if(prob == y[index]): # If prediction equal to true target, add 1 to numer of corrects predictions\n",
    "            correctPrediction += 1\n",
    "    return correctPrediction/totalPredictions # Percentage of correct guesses\n",
    "def compute_metrics(probs,yprobs):\n",
    "    '''\n",
    "    Returns\n",
    "        fpr : Increasing false positive rates such that element i is the false positive rate of predictions with score >= thresholds[i]\n",
    "        tpr : Increasing true positive rates such that element i is the true positive rate of predictions with score >= thresholds[i].\n",
    "        thresholds : Decreasing thresholds on the decision function used to compute fpr and tpr. thresholds[0] represents no instances being predicted and is arbitrarily set to max(y_score) + 1\n",
    "        auc : Area Under the ROC Curve metric\n",
    "    '''\n",
    "    # calculate AUC\n",
    "    auc = roc_auc_score(yprobs, probs)\n",
    "    # calculate roc curve\n",
    "    fpr, tpr, thresholds = roc_curve(yprobs, probs)\n",
    "    \n",
    "    return fpr, tpr, thresholds,au"
   ]
  },
  {
   "cell_type": "code",
   "execution_count": 7,
   "metadata": {},
   "outputs": [],
   "source": [
    "%run DatasetPrepare.ipynb"
   ]
  },
  {
   "cell_type": "code",
   "execution_count": 14,
   "metadata": {},
   "outputs": [],
   "source": [
    "imgsPath = os.getcwd()+'/modelHB_imgs/train/'\n",
    "csvPath = 'train_HB.csv'\n",
    "createLabelsTargets = CreateLabelsTargets(csvPath)\n",
    "createLabelsTargets.load_csv_and_treat()\n",
    "(X_train, X_test_original, y_train, y_test_original) = createLabelsTargets.create_dataset_with_image(imgsPath)"
   ]
  },
  {
   "cell_type": "code",
   "execution_count": 83,
   "metadata": {},
   "outputs": [
    {
     "name": "stdout",
     "output_type": "stream",
     "text": [
      "Model: \"functional_5\"\n",
      "__________________________________________________________________________________________________\n",
      "Layer (type)                    Output Shape         Param #     Connected to                     \n",
      "==================================================================================================\n",
      "anchorInput (InputLayer)        [(None, 200, 200, 1) 0                                            \n",
      "__________________________________________________________________________________________________\n",
      "positiveInput (InputLayer)      [(None, 200, 200, 1) 0                                            \n",
      "__________________________________________________________________________________________________\n",
      "negativeInput (InputLayer)      [(None, 200, 200, 1) 0                                            \n",
      "__________________________________________________________________________________________________\n",
      "sequential_2 (Sequential)       (None, 64)           1764032     anchorInput[0][0]                \n",
      "                                                                 positiveInput[0][0]              \n",
      "                                                                 negativeInput[0][0]              \n",
      "__________________________________________________________________________________________________\n",
      "tripletLossLayer (TripletLossLa ()                   0           sequential_2[0][0]               \n",
      "                                                                 sequential_2[1][0]               \n",
      "                                                                 sequential_2[2][0]               \n",
      "==================================================================================================\n",
      "Total params: 1,764,032\n",
      "Trainable params: 1,764,032\n",
      "Non-trainable params: 0\n",
      "__________________________________________________________________________________________________\n"
     ]
    }
   ],
   "source": [
    "inputShape = (200,200,1)\n",
    "embeddingsize = 64\n",
    "network = build_network(inputShape, embeddingsize)\n",
    "model = build_model(inputShape, network, margin=0.2)\n",
    "dataLoader =DataLoader('',X_train,y_train)\n",
    "model.summary()"
   ]
  },
  {
   "cell_type": "code",
   "execution_count": 84,
   "metadata": {},
   "outputs": [],
   "source": [
    "evaluateEvery = 100 # interval for evaluating on one-shot tasks\n",
    "batchSize = 32\n",
    "epochs = 1000 # No. of training iterations\n",
    "nVal = 250 # how many one-shot tasks to validate on\n",
    "nIteration = 0"
   ]
  },
  {
   "cell_type": "code",
   "execution_count": 85,
   "metadata": {},
   "outputs": [],
   "source": [
    "# Rehasping X_test to work on compute probs funtction\n",
    "X_test = []\n",
    "y_test = []\n",
    "for index,values in enumerate(X_test_original):\n",
    "    for value in values:\n",
    "        X_test.append(value)\n",
    "        y_test.append(y_test_original[index])\n",
    "X_test = np.array(X_test)\n",
    "y_test = np.array(y_test)"
   ]
  },
  {
   "cell_type": "code",
   "execution_count": 86,
   "metadata": {},
   "outputs": [
    {
     "name": "stdout",
     "output_type": "stream",
     "text": [
      "Training...\n",
      "Evaluating\n",
      "\n",
      " ------------- \n",
      "\n",
      "[100] Time for 100 iterations: 8.1 mins, Train Loss: 13.880098342895508\n",
      "Validating in test set[2254,2504] Test_set Accuracy: 0.9709558232931726\n",
      "Evaluating\n",
      "\n",
      " ------------- \n",
      "\n",
      "[200] Time for 200 iterations: 16.1 mins, Train Loss: 12.604029655456543\n",
      "Validating in test set[1886,2136] Test_set Accuracy: 0.8756305220883535\n",
      "Evaluating\n",
      "\n",
      " ------------- \n",
      "\n",
      "[300] Time for 300 iterations: 24.2 mins, Train Loss: 12.058623313903809\n",
      "Validating in test set[933,1183] Test_set Accuracy: 0.9777670682730923\n",
      "Evaluating\n",
      "\n",
      " ------------- \n",
      "\n",
      "[400] Time for 400 iterations: 32.2 mins, Train Loss: 12.516632080078125\n",
      "Validating in test set[246,496] Test_set Accuracy: 0.9620562248995984\n",
      "Evaluating\n",
      "\n",
      " ------------- \n",
      "\n",
      "[500] Time for 500 iterations: 40.3 mins, Train Loss: 11.740715026855469\n",
      "Validating in test set[2770,3020] Test_set Accuracy: 0.9233413654618474\n",
      "Evaluating\n",
      "\n",
      " ------------- \n",
      "\n",
      "[600] Time for 600 iterations: 48.3 mins, Train Loss: 12.992865562438965\n",
      "Validating in test set[2619,2869] Test_set Accuracy: 0.8573815261044176\n",
      "Evaluating\n",
      "\n",
      " ------------- \n",
      "\n",
      "[700] Time for 700 iterations: 56.4 mins, Train Loss: 10.454511642456055\n",
      "Validating in test set[1746,1996] Test_set Accuracy: 0.9373493975903614\n",
      "Evaluating\n",
      "\n",
      " ------------- \n",
      "\n",
      "[800] Time for 800 iterations: 64.4 mins, Train Loss: 10.90256404876709\n",
      "Validating in test set[975,1225] Test_set Accuracy: 0.9729156626506024\n",
      "Evaluating\n",
      "\n",
      " ------------- \n",
      "\n",
      "[900] Time for 900 iterations: 72.5 mins, Train Loss: 10.103326797485352\n",
      "Validating in test set[1743,1993] Test_set Accuracy: 0.9250763052208836\n"
     ]
    }
   ],
   "source": [
    "print(\"Training...\")\n",
    "t_start = time.time()\n",
    "\n",
    "for i in range(1, epochs):\n",
    "    triplets = dataLoader.getBatchRandom(batchSize,X_train)\n",
    "    loss = model.train_on_batch(triplets, None)\n",
    "    nIteration += 1\n",
    "    if i % evaluateEvery == 0:\n",
    "        print(\"Evaluating\")\n",
    "        print(\"\\n ------------- \\n\")\n",
    "        randomIndex = rng.randint(len(y_test))\n",
    "        if(randomIndex < nVal):\n",
    "            randomIndex += (nVal - randomIndex)\n",
    "        probs,yprob = compute_probs(network,X_test[(randomIndex-nVal):randomIndex],y_test[(randomIndex-nVal):randomIndex])\n",
    "        acc = computeAccuracy(probs,yprob)\n",
    "        print(\"[{3}] Time for {0} iterations: {1:.1f} mins, Train Loss: {2}\".format(i, (time.time()-t_start)/60.0,loss,nIteration))\n",
    "        print(\"Validating in test set[{},{}] Test_set Accuracy: {}\".format(randomIndex-nVal, randomIndex, acc))"
   ]
  },
  {
   "cell_type": "code",
   "execution_count": 90,
   "metadata": {},
   "outputs": [],
   "source": [
    "probs,yprob = compute_probs(network,X_test,y_test)\n",
    "acc = computeAccuracy(probs,yprob)"
   ]
  },
  {
   "cell_type": "code",
   "execution_count": 91,
   "metadata": {},
   "outputs": [
    {
     "data": {
      "text/plain": [
       "0.9266703918233827"
      ]
     },
     "execution_count": 91,
     "metadata": {},
     "output_type": "execute_result"
    }
   ],
   "source": [
    "acc"
   ]
  },
  {
   "cell_type": "code",
   "execution_count": 89,
   "metadata": {},
   "outputs": [
    {
     "name": "stdout",
     "output_type": "stream",
     "text": [
      "probs\n",
      "[0.39017221 0.10714914 0.84104764 0.02793114 0.51792437 0.03003586\n",
      " 0.1454749  0.25704539 0.41183066 0.11390686 0.25872511 0.23048799\n",
      " 0.17274284 0.27367023 0.073082   0.12289413 0.0120568  0.48591173\n",
      " 0.02737628 0.26770985 0.06399576 0.00678192 0.09525327 0.12493528\n",
      " 0.64293748 0.0518027  0.79937708 0.45443118 0.19714452 0.17405218\n",
      " 0.36963952 0.02342758 0.05110962 0.14897323 0.24546884 0.50283581\n",
      " 0.25693774 0.0549948  0.10060019 0.07849284 0.25232792 0.31688589\n",
      " 0.10138901 0.09136513 0.07804442]\n",
      "y\n",
      "[1. 1. 0. 0. 0. 0. 0. 0. 0. 1. 0. 0. 0. 0. 0. 0. 0. 0. 0. 0. 0. 0. 0. 0.\n",
      " 0. 0. 0. 0. 0. 0. 1. 1. 1. 1. 1. 1. 1. 1. 1. 1. 1. 1. 1. 1. 1.]\n"
     ]
    }
   ],
   "source": [
    "probs,yprob = compute_probs(network,X_test[0:10],y_test[0:10])\n",
    "print(\"probs\")\n",
    "print(probs)\n",
    "print(\"y\")\n",
    "print(yprob)\n",
    "acc = computeAccuracy(probs,yprob)"
   ]
  },
  {
   "cell_type": "code",
   "execution_count": 97,
   "metadata": {},
   "outputs": [
    {
     "data": {
      "text/plain": [
       "0.08297019"
      ]
     },
     "execution_count": 97,
     "metadata": {},
     "output_type": "execute_result"
    }
   ],
   "source": [
    "compute_dist(probas[2256],probas[2257])"
   ]
  },
  {
   "cell_type": "code",
   "execution_count": 100,
   "metadata": {},
   "outputs": [
    {
     "data": {
      "image/png": "[encoded data removed]",
      "text/plain": [
       "<PIL.Image.Image image mode=L size=200x200 at 0x7F6CE1576208>"
      ]
     },
     "execution_count": 100,
     "metadata": {},
     "output_type": "execute_result"
    }
   ],
   "source": [
    "array_to_img(X_test[2256])"
   ]
  },
  {
   "cell_type": "code",
   "execution_count": 101,
   "metadata": {},
   "outputs": [
    {
     "data": {
      "image/png": "[encoded data removed]",
      "text/plain": [
       "<PIL.Image.Image image mode=L size=200x200 at 0x7F6CE1576D30>"
      ]
     },
     "execution_count": 101,
     "metadata": {},
     "output_type": "execute_result"
    }
   ],
   "source": [
    "array_to_img(X_test[2257])"
   ]
  },
  {
   "cell_type": "code",
   "execution_count": 93,
   "metadata": {},
   "outputs": [
    {
     "data": {
      "text/plain": [
       "array(['w_fc94e17', 'w_d287825', 'w_d287825', 'w_d287825', 'w_0cbf1b3',\n",
       "       'w_0cbf1b3', 'w_0cbf1b3', 'w_0cbf1b3', 'w_0cbf1b3'], dtype='<U9')"
      ]
     },
     "execution_count": 93,
     "metadata": {},
     "output_type": "execute_result"
    }
   ],
   "source": [
    "y_test[2255:2264]"
   ]
  },
  {
   "cell_type": "code",
   "execution_count": 102,
   "metadata": {},
   "outputs": [
    {
     "ename": "NameError",
     "evalue": "name 'newtork' is not defined",
     "output_type": "error",
     "traceback": [
      "\u001b[0;31m---------------------------------------------------------------------------\u001b[0m",
      "\u001b[0;31mNameError\u001b[0m                                 Traceback (most recent call last)",
      "\u001b[0;32m<ipython-input-102-fe8a87fe76e6>\u001b[0m in \u001b[0;36m<module>\u001b[0;34m\u001b[0m\n\u001b[0;32m----> 1\u001b[0;31m \u001b[0mnewtork\u001b[0m\u001b[0;34m.\u001b[0m\u001b[0msave_weights\u001b[0m\u001b[0;34m(\u001b[0m\u001b[0;34m'HBWhale_Model_Weights.h5'\u001b[0m\u001b[0;34m)\u001b[0m\u001b[0;34m\u001b[0m\u001b[0m\n\u001b[0m",
      "\u001b[0;31mNameError\u001b[0m: name 'newtork' is not defined"
     ]
    }
   ],
   "source": [
    "network.save_weights('HBWhale_Model_Weights.h5')"
   ]
  },
  {
   "cell_type": "code",
   "execution_count": null,
   "metadata": {},
   "outputs": [],
   "source": []
  }
 ],
 "metadata": {
  "kernelspec": {
   "display_name": "Python 3",
   "language": "python",
   "name": "python3"
  },
  "language_info": {
   "codemirror_mode": {
    "name": "ipython",
    "version": 3
   },
   "file_extension": ".py",
   "mimetype": "text/x-python",
   "name": "python",
   "nbconvert_exporter": "python",
   "pygments_lexer": "ipython3",
   "version": "3.5.2"
  }
 },
 "nbformat": 4,
 "nbformat_minor": 4
}
